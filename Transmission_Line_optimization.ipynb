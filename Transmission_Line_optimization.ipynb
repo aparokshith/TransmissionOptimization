{
  "nbformat": 4,
  "nbformat_minor": 0,
  "metadata": {
    "colab": {
      "provenance": [],
      "authorship_tag": "ABX9TyMatIw2vSFcJW5x/fVkM4Q+",
      "include_colab_link": true
    },
    "kernelspec": {
      "name": "python3",
      "display_name": "Python 3"
    },
    "language_info": {
      "name": "python"
    }
  },
  "cells": [
    {
      "cell_type": "markdown",
      "metadata": {
        "id": "view-in-github",
        "colab_type": "text"
      },
      "source": [
        "<a href=\"https://colab.research.google.com/github/aparokshith/TransmissionOptimization/blob/main/Transmission_Line_optimization.ipynb\" target=\"_parent\"><img src=\"https://colab.research.google.com/assets/colab-badge.svg\" alt=\"Open In Colab\"/></a>"
      ]
    },
    {
      "cell_type": "markdown",
      "source": [
        "## Problem Description\n",
        "\n",
        " The goal of the problem is to figure out which cables should be laid to connect a powerplant to a  power network at a minimum cost.\n",
        "\n",
        "The plan we compute will minimize the cost to install the cables, while ensuring that each plant is connected to a said site and each cable has sufficient capacity to handle the electrical current generated.\n",
        "\n",
        "There are two factors we must consider when installing the cables. First, there is a fixed cost to lay a cable on the sea floor. This cost is proportional to the distance between the two stations the cable connects. Second, we must consider how much current will flow through the cables. Connections that carry large currents need thick cables. Thick cables are more expensive than thin cables.\n",
        "\n",
        "The goal of this optimization problem is to decide which cables should be laid to connect the wind farm power network at a minimum cost."
      ],
      "metadata": {
        "id": "SjU31uMr4SKH"
      }
    },
    {
      "cell_type": "code",
      "source": [
        "!pip install gurobipy"
      ],
      "metadata": {
        "colab": {
          "base_uri": "https://localhost:8080/"
        },
        "id": "cPKwnuur4Rle",
        "outputId": "25192a83-2d22-4152-82fa-3e2fbe189dee"
      },
      "execution_count": 1,
      "outputs": [
        {
          "output_type": "stream",
          "name": "stdout",
          "text": [
            "Looking in indexes: https://pypi.org/simple, https://us-python.pkg.dev/colab-wheels/public/simple/\n",
            "Collecting gurobipy\n",
            "  Downloading gurobipy-10.0.1-cp39-cp39-manylinux2014_x86_64.whl (12.8 MB)\n",
            "\u001b[2K     \u001b[90m━━━━━━━━━━━━━━━━━━━━━━━━━━━━━━━━━━━━━━━━\u001b[0m \u001b[32m12.8/12.8 MB\u001b[0m \u001b[31m70.1 MB/s\u001b[0m eta \u001b[36m0:00:00\u001b[0m\n",
            "\u001b[?25hInstalling collected packages: gurobipy\n",
            "Successfully installed gurobipy-10.0.1\n"
          ]
        }
      ]
    },
    {
      "cell_type": "code",
      "execution_count": 2,
      "metadata": {
        "id": "o9573bKJ3Q9t"
      },
      "outputs": [],
      "source": [
        "import gurobipy as gp\n",
        "from gurobipy import GRB\n",
        "import matplotlib.pyplot as plt\n",
        "import networkx as nx"
      ]
    },
    {
      "cell_type": "markdown",
      "source": [
        "We define the edgelist with following attribute: [capacity in MW, Flow cost in Million USD, Fixed Cost in Million USD]\n",
        "\n",
        "Each vertices, have a capacity attribute associated in MW. \n",
        "\n",
        "---\n",
        "### Objective function:\n",
        "\n",
        "We want to minimize the total cost to install the cables. \n",
        "\n",
        "\\begin{equation}\n",
        "\\text{Max} \\quad Z = \\sum_{(i,j) \\in E} c_{i,j} \\cdot flow_{i,j} + \\sum_{(i,j) \\in E} f_{i,j} \\cdot install_{i,j} \n",
        "\\tag{0}\n",
        "\\end{equation}"
      ],
      "metadata": {
        "id": "0Xi71LNl-VfC"
      }
    },
    {
      "cell_type": "code",
      "source": [
        "vertices = {0: 4, 1: 3, 2: 2, 3: 0, 4: -6, 5: -3}\n",
        "edges, cap, flow_cost, fixed_cost = gp.multidict({\n",
        "    (0,4): [4,1,1],\n",
        "    (0,3): [2,1,1],\n",
        "    (1,3): [3,1,1],\n",
        "    (2,5): [2,1,1],\n",
        "    (3,4): [2,1,1],\n",
        "    (3,5): [1,1,1]\n",
        "})"
      ],
      "metadata": {
        "id": "MKihlUNM6Uwa"
      },
      "execution_count": 3,
      "outputs": []
    },
    {
      "cell_type": "code",
      "source": [
        "G = nx.Graph()\n",
        "for pts in cap:\n",
        "    G.add_edge(pts[0], pts[1], weight=cap[pts])"
      ],
      "metadata": {
        "id": "0DBZ3BLc6Vsv"
      },
      "execution_count": 9,
      "outputs": []
    },
    {
      "cell_type": "code",
      "source": [
        "print(G)"
      ],
      "metadata": {
        "colab": {
          "base_uri": "https://localhost:8080/"
        },
        "id": "fHFzVzsi7ofr",
        "outputId": "9d596572-472f-49f0-9f82-a34bf5223724"
      },
      "execution_count": 10,
      "outputs": [
        {
          "output_type": "stream",
          "name": "stdout",
          "text": [
            "Graph with 6 nodes and 6 edges\n"
          ]
        }
      ]
    },
    {
      "cell_type": "code",
      "source": [
        "pos = nx.spring_layout(G,seed=42)\n",
        "nx.draw(G, pos, with_labels = True)\n",
        "nx.draw_networkx_nodes(G, pos, node_size=10, node_color='b', alpha=0.8)\n",
        "nx.draw_networkx_edges(G, pos, edge_color='grey', alpha=0.5)\n",
        "plt.axis('off')\n",
        "plt.show()"
      ],
      "metadata": {
        "colab": {
          "base_uri": "https://localhost:8080/",
          "height": 516
        },
        "id": "gYNBlUSU7SUk",
        "outputId": "2a5a47ee-8a55-447f-fb1f-43b0d9fd5a32"
      },
      "execution_count": 12,
      "outputs": [
        {
          "output_type": "display_data",
          "data": {
            "text/plain": [
              "<Figure size 640x480 with 1 Axes>"
            ],
            "image/png": "[encoded data removed]"
          },
          "metadata": {}
        }
      ]
    },
    {
      "cell_type": "code",
      "source": [
        "# MIP  model formulation\n",
        "\n",
        "m = gp.Model(\"New Transmission placement\")\n",
        "\n",
        "# Add variables\n",
        "install = m.addVars(edges, vtype=GRB.BINARY, name=\"Install\")\n",
        "flow = m.addVars(edges, vtype=GRB.CONTINUOUS, name=\"Flow\")\n",
        "\n",
        "# Add constraints\n",
        "m.addConstrs((flow.sum(v,'*') - flow.sum('*',v) == supply for v, supply in vertices.items()), name=\"Flow_conservation\") # added constrains so that Energy in = Energy Out\n",
        "m.addConstrs((flow[e] <= cap[e]*install[e] for e in edges), name=\"Install2flow\") # want to enforce the limits on the maximum current capacity of each cable\n",
        "\n",
        "# Set objective\n",
        "m.setObjective(flow.prod(flow_cost) + install.prod(fixed_cost), GRB.MINIMIZE)\n",
        "\n",
        "m.optimize()"
      ],
      "metadata": {
        "colab": {
          "base_uri": "https://localhost:8080/"
        },
        "id": "AP_t_5P18DJd",
        "outputId": "416fcfbf-ab5b-41dc-ff4a-7be48e3cde46"
      },
      "execution_count": 14,
      "outputs": [
        {
          "output_type": "stream",
          "name": "stdout",
          "text": [
            "Gurobi Optimizer version 10.0.1 build v10.0.1rc0 (linux64)\n",
            "\n",
            "CPU model: AMD EPYC 7B12, instruction set [SSE2|AVX|AVX2]\n",
            "Thread count: 1 physical cores, 2 logical processors, using up to 2 threads\n",
            "\n",
            "Optimize a model with 12 rows, 12 columns and 24 nonzeros\n",
            "Model fingerprint: 0x03b3989f\n",
            "Variable types: 6 continuous, 6 integer (6 binary)\n",
            "Coefficient statistics:\n",
            "  Matrix range     [1e+00, 4e+00]\n",
            "  Objective range  [1e+00, 1e+00]\n",
            "  Bounds range     [1e+00, 1e+00]\n",
            "  RHS range        [2e+00, 6e+00]\n",
            "Presolve removed 12 rows and 12 columns\n",
            "Presolve time: 0.00s\n",
            "Presolve: All rows and columns removed\n",
            "\n",
            "Explored 0 nodes (0 simplex iterations) in 0.02 seconds (0.00 work units)\n",
            "Thread count was 1 (of 2 available processors)\n",
            "\n",
            "Solution count 1: 17 \n",
            "\n",
            "Optimal solution found (tolerance 1.00e-04)\n",
            "Best objective 1.700000000000e+01, best bound 1.700000000000e+01, gap 0.0000%\n"
          ]
        }
      ]
    },
    {
      "cell_type": "code",
      "source": [
        "new_cables = {}\n",
        "for origin, end in install.keys():\n",
        "  if(abs(install[origin, end].x) > 0.5):\n",
        "    print(f\"Install cable from location {origin } to location {end } in the network \")\n",
        "    new_cables[(origin, end)] = 0\n"
      ],
      "metadata": {
        "colab": {
          "base_uri": "https://localhost:8080/"
        },
        "id": "954Dm-pl_s2c",
        "outputId": "0596365d-785a-4ce3-f109-4ccdac8c9585"
      },
      "execution_count": 18,
      "outputs": [
        {
          "output_type": "stream",
          "name": "stdout",
          "text": [
            "Install cable from location 0 to location 4 in the network \n",
            "Install cable from location 1 to location 3 in the network \n",
            "Install cable from location 2 to location 5 in the network \n",
            "Install cable from location 3 to location 4 in the network \n",
            "Install cable from location 3 to location 5 in the network \n"
          ]
        }
      ]
    },
    {
      "cell_type": "code",
      "source": [
        "for origin, end in flow.keys():\n",
        "    if (abs(flow[origin, end].x) > 1e-6):\n",
        "         print(f\"The capacity of cable installed from location {origin } to location {end } is {flow[origin, end].x} MW \")\n",
        "         if (origin, end) in new_cables:\n",
        "           new_cables[(origin, end)] = flow[origin, end].x"
      ],
      "metadata": {
        "colab": {
          "base_uri": "https://localhost:8080/"
        },
        "id": "-uaMBTggAOAS",
        "outputId": "922d8a95-7f40-4b84-dba3-f1b76a26eed5"
      },
      "execution_count": 19,
      "outputs": [
        {
          "output_type": "stream",
          "name": "stdout",
          "text": [
            "The capacity of cable installed from location 0 to location 4 is 4.0 MW \n",
            "The capacity of cable installed from location 1 to location 3 is 3.0 MW \n",
            "The capacity of cable installed from location 2 to location 5 is 2.0 MW \n",
            "The capacity of cable installed from location 3 to location 4 is 2.0 MW \n",
            "The capacity of cable installed from location 3 to location 5 is 1.0 MW \n"
          ]
        }
      ]
    },
    {
      "cell_type": "code",
      "source": [
        "G_new = nx.Graph()\n",
        "for edg in new_cables:\n",
        "    G_new.add_edge(edg[0], edg[1], weight=new_cables[edg])"
      ],
      "metadata": {
        "id": "CjpvjYQLAiT8"
      },
      "execution_count": 22,
      "outputs": []
    },
    {
      "cell_type": "code",
      "source": [
        "pos = nx.spring_layout(G_new,seed=42)\n",
        "nx.draw(G_new, pos, with_labels = True)\n",
        "nx.draw_networkx_nodes(G_new, pos, node_size=10, node_color='b', alpha=0.8)\n",
        "nx.draw_networkx_edges(G_new, pos, edge_color='grey', alpha=0.5)\n",
        "plt.axis('off')\n",
        "plt.show()"
      ],
      "metadata": {
        "colab": {
          "base_uri": "https://localhost:8080/",
          "height": 516
        },
        "id": "Y-KXFt8XAtXI",
        "outputId": "b9e6a66a-4acb-42e4-9d59-c184ba737e43"
      },
      "execution_count": 23,
      "outputs": [
        {
          "output_type": "display_data",
          "data": {
            "text/plain": [
              "<Figure size 640x480 with 1 Axes>"
            ],
            "image/png": "[encoded data removed]"
          },
          "metadata": {}
        }
      ]
    },
    {
      "cell_type": "markdown",
      "source": [
        " Note: Edge between 0 and 3 has been removed"
      ],
      "metadata": {
        "id": "XdRma5pNB6Wk"
      }
    },
    {
      "cell_type": "code",
      "source": [],
      "metadata": {
        "id": "_nWu5NxiCC4q"
      },
      "execution_count": null,
      "outputs": []
    }
  ]
}